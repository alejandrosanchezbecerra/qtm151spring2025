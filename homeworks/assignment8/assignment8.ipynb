{
 "cells": [
  {
   "attachments": {},
   "cell_type": "markdown",
   "metadata": {},
   "source": [
    "# <span style=\"color:darkblue\"> QTM 151 - Assignment 8 </span>"
   ]
  },
  {
   "attachments": {},
   "cell_type": "markdown",
   "metadata": {},
   "source": [
    "## Try to submit as an HTML file"
   ]
  },
  {
   "attachments": {},
   "cell_type": "markdown",
   "metadata": {},
   "source": [
    "\n",
    "\n",
    "### Print your name below"
   ]
  },
  {
   "cell_type": "code",
   "execution_count": 2,
   "metadata": {},
   "outputs": [
    {
     "name": "stdout",
     "output_type": "stream",
     "text": [
      "Angie Siaca\n"
     ]
    }
   ],
   "source": [
    "# Write your answer here\n",
    "print(\"Angie Siaca\")\n"
   ]
  },
  {
   "attachments": {},
   "cell_type": "markdown",
   "metadata": {},
   "source": [
    "### Import the \"pandas\" library"
   ]
  },
  {
   "cell_type": "code",
   "execution_count": 3,
   "metadata": {},
   "outputs": [],
   "source": [
    "# Write your answer here\n",
    "\n",
    "import pandas as pd\n"
   ]
  },
  {
   "attachments": {},
   "cell_type": "markdown",
   "metadata": {},
   "source": [
    "### You will need the material from Lecture 14 and 15 for this assignment."
   ]
  },
  {
   "cell_type": "markdown",
   "metadata": {},
   "source": [
    "\n",
    "\n",
    "### Import the dataset \"imdb_top_1000.csv\" and save it as \"movies.\" <br> \n",
    "This includes data on the top 1000 movies by IMDB rating."
   ]
  },
  {
   "cell_type": "code",
   "execution_count": 7,
   "metadata": {},
   "outputs": [
    {
     "ename": "NameError",
     "evalue": "name 'movies' is not defined",
     "output_type": "error",
     "traceback": [
      "\u001b[0;31m---------------------------------------------------------------------------\u001b[0m",
      "\u001b[0;31mNameError\u001b[0m                                 Traceback (most recent call last)",
      "Cell \u001b[0;32mIn[7], line 2\u001b[0m\n\u001b[1;32m      1\u001b[0m \u001b[38;5;66;03m# Write your answer here\u001b[39;00m\n\u001b[0;32m----> 2\u001b[0m movies \u001b[38;5;241m<\u001b[39m\u001b[38;5;241m-\u001b[39m read_csv(\u001b[38;5;124m\"\u001b[39m\u001b[38;5;124mdata_raw/imdb_top_1000.csv\u001b[39m\u001b[38;5;124m\"\u001b[39m)\n",
      "\u001b[0;31mNameError\u001b[0m: name 'movies' is not defined"
     ]
    }
   ],
   "source": [
    "# Write your answer here\n",
    "movies <- read_csv(\"data_raw/imdb_top_1000.csv\")\n"
   ]
  },
  {
   "attachments": {},
   "cell_type": "markdown",
   "metadata": {},
   "source": [
    "### (a) Groupby + Aggregate Statistics\n",
    "\n",
    "Create a new dataset **\"movies_agg\"** by grouping the \"movies\" dataset by **\"Genre\"** and then computing <br>the following aggregate statistics for **\"IMDB_Rating\"**:\n",
    "\n",
    "- **Mean**\n",
    "- **Standard Deviation**\n",
    "- **Minimum**\n",
    "- **Maximum**\n",
    "\n",
    "Add a chain to sort by the mean IMDB rating in descending order.\n",
    "\n",
    "Display the resulting dataset **\"movies_agg\"**.\n",
    "\n"
   ]
  },
  {
   "cell_type": "code",
   "execution_count": 4,
   "metadata": {},
   "outputs": [],
   "source": [
    "# Write your own code\n",
    "\n"
   ]
  },
  {
   "attachments": {},
   "cell_type": "markdown",
   "metadata": {},
   "source": [
    "### (b) Merge Data\n",
    "\n",
    "Create a new dataset **\"movies_merge\"** by merging the aggregate information <br> \n",
    "from (a) into \"movies\".\n",
    "\n",
    "Display the resulting dataset **\"movies_merge\"**.\n"
   ]
  },
  {
   "cell_type": "code",
   "execution_count": 5,
   "metadata": {},
   "outputs": [],
   "source": [
    "# Write your own code\n",
    "\n"
   ]
  },
  {
   "attachments": {},
   "cell_type": "markdown",
   "metadata": {},
   "source": [
    "### (c) Rename Columns + Dictionaries\n",
    "\n",
    "Create a new dataset **\"movies_rename\"** by renaming the following columns in <br>the \"movies\" dataset using a dictionary:\n",
    "\n",
    "- \"Name\" --> **\"Movie_Title\"**\n",
    "- \"Length\" --> **\"Runtime\"**\n",
    "- \"Gross\" --> **\"Revenue\"**\n",
    "\n",
    "Verify that this renaming worked by printing the lists of the old (\"movies\") and new <br>(\"movies_rename\") column names."
   ]
  },
  {
   "cell_type": "code",
   "execution_count": 6,
   "metadata": {},
   "outputs": [],
   "source": [
    "# Write your own code\n",
    "\n"
   ]
  },
  {
   "attachments": {},
   "cell_type": "markdown",
   "metadata": {},
   "source": [
    "### (d) Split Data\n",
    "\n",
    "Use \".query()\" to split the \"movies_rename\" dataset from (c) into different parts:\n",
    "\n",
    "- Those directed by **Steven Spielberg**, saved to a dataset titled **\"movies_spielberg\"**\n",
    "- Those directed by **Christopher Nolan**, saved to a dataset titled **\"movies_nolan\"**\n"
   ]
  },
  {
   "cell_type": "code",
   "execution_count": 7,
   "metadata": {},
   "outputs": [],
   "source": [
    "# Write your own code\n",
    "\n"
   ]
  },
  {
   "attachments": {},
   "cell_type": "markdown",
   "metadata": {},
   "source": [
    "### (e) Concatenate Data\n",
    "\n",
    "Concatenate the datasets you created in (d) to a new dataset titled **\"movies_concat\"**.\n",
    "\n",
    "Display the resulting dataset **\"movies_concat\"**."
   ]
  },
  {
   "cell_type": "code",
   "execution_count": 8,
   "metadata": {},
   "outputs": [],
   "source": [
    "# Write your own code\n",
    "\n"
   ]
  }
 ],
 "metadata": {
  "kernelspec": {
   "display_name": "base",
   "language": "python",
   "name": "python3"
  },
  "language_info": {
   "codemirror_mode": {
    "name": "ipython",
    "version": 3
   },
   "file_extension": ".py",
   "mimetype": "text/x-python",
   "name": "python",
   "nbconvert_exporter": "python",
   "pygments_lexer": "ipython3",
   "version": "3.12.7"
  },
  "orig_nbformat": 4
 },
 "nbformat": 4,
 "nbformat_minor": 2
}

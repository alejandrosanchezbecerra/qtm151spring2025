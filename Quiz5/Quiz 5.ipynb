{
 "cells": [
  {
   "cell_type": "markdown",
   "metadata": {},
   "source": [
    "# Quiz 4"
   ]
  },
  {
   "attachments": {},
   "cell_type": "markdown",
   "metadata": {},
   "source": [
    "## Try to submit as an HTML file"
   ]
  },
  {
   "attachments": {},
   "cell_type": "markdown",
   "metadata": {},
   "source": [
    "<font size = \"5\">\n",
    "Print your name below"
   ]
  },
  {
   "cell_type": "code",
   "execution_count": 2,
   "metadata": {},
   "outputs": [
    {
     "name": "stdout",
     "output_type": "stream",
     "text": [
      "Angie Siaca\n"
     ]
    }
   ],
   "source": [
    "# Write your answer here:\n",
    "print(\"Angie Siaca\")\n"
   ]
  },
  {
   "cell_type": "markdown",
   "metadata": {},
   "source": [
    "<font size = \"5\" >\n",
    "This quiz is open book \n",
    "\n",
    "- You can use the lecture notes\n",
    "- You will get partial credit for attempting the questions\n",
    "- To get full credit, the code should run as intended\n",
    "- You should <span style=\"color:red\"> NOT </span> communicate with other students\n",
    "\n",
    "Write the following message as a comment: <br>\n",
    "\n",
    "\"I will abide by Emory's code of conduct\"\n"
   ]
  },
  {
   "cell_type": "code",
   "execution_count": 1,
   "metadata": {},
   "outputs": [
    {
     "name": "stdout",
     "output_type": "stream",
     "text": [
      "I will abide bt Emory's code of conduct\n"
     ]
    }
   ],
   "source": [
    "# Write your own code\n",
    "print(\"I will abide bt Emory's code of conduct\")\n"
   ]
  },
  {
   "cell_type": "code",
   "execution_count": 3,
   "metadata": {},
   "outputs": [],
   "source": [
    "# Write your answer here:\n",
    "\n",
    "import pandas as pd\n",
    "from sqlalchemy import create_engine\n",
    "from sqlalchemy.engine import URL\n",
    "from sqlalchemy import text\n"
   ]
  },
  {
   "attachments": {},
   "cell_type": "markdown",
   "metadata": {},
   "source": [
    "<font size = \"5\">\n",
    "\n",
    "Establish a connection to the SQL server and database ```postgres``` <br>\n",
    "from Python as done in  class  using <br>\n",
    "```URL()``` and ```create_engine()```<br>\n",
    "As we are are in the default database, <br>\n",
    "you can leave out the database argument.\n",
    "\n",
    "Note: You may have to change some of the login details <br>\n",
    "depending on your computer"
   ]
  },
  {
   "cell_type": "code",
   "execution_count": 4,
   "metadata": {},
   "outputs": [],
   "source": [
    "# Write your answer here:\n",
    "\n",
    "url_server = URL.create(\n",
    "    \"postgresql\",\n",
    "    host = 'localhost',\n",
    "    username = 'postgres',\n",
    "    port = 5432,\n",
    "    password  = '12345')\n",
    "connection = create_engine(url_server)\n"
   ]
  },
  {
   "attachments": {},
   "cell_type": "markdown",
   "metadata": {},
   "source": [
    "\n",
    "<font size = \"5\">\n",
    "\n",
    "(a) Upload dataset to SQL\n",
    "\n",
    "\n",
    "<font size = \"3\">\n",
    "\n",
    "- Read the files ```brand_info.csv``` and ```cars.csv``` in the ```data_raw``` folder\n",
    "- Upload both files to your local SQL server using the <br>\n",
    "\"to_sql\" command. Call the new datasets ```brand_info``` and ```cars```, respectively <br>\n",
    " in the server"
   ]
  },
  {
   "cell_type": "code",
   "execution_count": 7,
   "metadata": {},
   "outputs": [
    {
     "data": {
      "text/plain": [
       "74"
      ]
     },
     "execution_count": 7,
     "metadata": {},
     "output_type": "execute_result"
    }
   ],
   "source": [
    "# Write your answer here:\n",
    "brand_info  = pd.read_csv(\"data_raw/brand_info.csv\")\n",
    "cars   = pd.read_csv(\"data_raw/cars.csv\")\n",
    "\n",
    "url_server = URL.create(\n",
    "    \"postgresql\",\n",
    "    host = 'localhost',\n",
    "    database = 'postgres',\n",
    "    username = 'postgres',\n",
    "    port = 5432,\n",
    "    password  = \"\")\n",
    "\n",
    "connection = create_engine(url_server)\n",
    "\n",
    "brand_info.to_sql('brand_info',\n",
    "               con = connection,\n",
    "               if_exists='replace',\n",
    "               index=False)\n",
    "\n",
    "cars.to_sql('cars', \n",
    "             con = connection, \n",
    "             if_exists='replace',\n",
    "             index=False)\n",
    "\n",
    "\n"
   ]
  },
  {
   "cell_type": "markdown",
   "metadata": {},
   "source": [
    "\n",
    "<font size = \"5\">\n",
    "\n",
    "For questions (b)-(f) we will be working with the tables <br>\n",
    "``` cars ``` and ``` brands ``` in the SQL server. You are required to use <br>\n",
    "the ```read_sql``` command for all the following questions."
   ]
  },
  {
   "cell_type": "markdown",
   "metadata": {},
   "source": [
    "\n",
    "<font size = \"5\">\n",
    "\n",
    "(b) Subset and sort\n",
    "\n",
    "<font size = \"3\">\n",
    "\n",
    "Run a query using ```pd.read_sql()```\n",
    "\n",
    "- Use ```WHERE``` to get a subset of \"cars\" to subset <br>\n",
    "cars whose brand is ```'Honda'```\n",
    "- Chain this with ```ORDER BY price ASC``` to sort in <br>\n",
    "ascending order <br>\n",
    "\n",
    "HINTS:\n",
    "- Remember to include a  ```\\```  to be able to define strings over multiple lines\n",
    "- We can include single quotations in the WHERE command without any <br>\n",
    "additional escape characters"
   ]
  },
  {
   "cell_type": "code",
   "execution_count": 9,
   "metadata": {},
   "outputs": [
    {
     "name": "stdout",
     "output_type": "stream",
     "text": [
      "   Unnamed: 0          make  price  mpg  rep78  headroom  trunk  weight  \\\n",
      "0          61   Honda Civic   4499   28    4.0       2.5      5    1760   \n",
      "1          60  Honda Accord   5799   25    5.0       3.0     10    2240   \n",
      "\n",
      "   length  turn  displacement  gear_ratio  brand  \n",
      "0     149    34            91        3.30  Honda  \n",
      "1     172    36           107        3.05  Honda  \n"
     ]
    }
   ],
   "source": [
    "# Write your answer here:\n",
    "\n",
    "\n",
    "\n",
    "example3 = pd.read_sql(text(\"SELECT * \\\n",
    "                             FROM cars \\\n",
    "                             WHERE brand = 'Honda'\\\n",
    "                             ORDER BY price ASC;\"), connection)\n",
    "print(example3.head())\n",
    "\n",
    "\n",
    "\n",
    "\n",
    "\n"
   ]
  },
  {
   "attachments": {},
   "cell_type": "markdown",
   "metadata": {},
   "source": [
    "<font size = \"5\">\n",
    "\n",
    "(c) Groupby + Aggregate + Sort\n",
    "\n",
    "<font size = \"3\">\n",
    "\n",
    "Run a query using ```pd.read_sql()```\n",
    "\n",
    "- From ```cars```, obtain the average of \"weight\" by \"brand\" using ```GROUP BY```\n",
    "- Use ```ORDER BY ``` to sort by the average of \"weight\"\n",
    "- You can break down your code into separate lines with a ```\\``` <br>\n",
    "to make it easy to read.\n"
   ]
  },
  {
   "cell_type": "code",
   "execution_count": 15,
   "metadata": {},
   "outputs": [
    {
     "name": "stdout",
     "output_type": "stream",
     "text": [
      "     brand  avg_weight\n",
      "0  Renault      1830.0\n",
      "1    Mazda      1980.0\n",
      "2    Honda      2000.0\n",
      "3       VW      2030.0\n",
      "4   Subaru      2050.0\n"
     ]
    }
   ],
   "source": [
    "# Write your answer here:\n",
    "\n",
    "example4 = pd.read_sql(text(\"SELECT \\\n",
    "                                brand, \\\n",
    "                             AVG(weight) AS avg_weight \\\n",
    "                            FROM cars \\\n",
    "                            GROUP BY brand \\\n",
    "                            ORDER BY avg_weight ASC;\"), connection)\n",
    "\n",
    "print(example4.head())\n",
    "\n",
    "\n"
   ]
  },
  {
   "attachments": {},
   "cell_type": "markdown",
   "metadata": {},
   "source": [
    "<font size = \"5\">\n",
    "\n",
    "(d) Groupby + Aggregate + Sort\n",
    "\n",
    "<font size = \"3\">\n",
    "\n",
    "Run a query using ```pd.read_sql()```\n",
    "\n",
    "- From ```cars``` obtain the average of \"headroom\" by brand using ```GROUP BY```\n",
    "- Use ```HAVING ``` to filter brands with an <br>\n",
    "average headroom strictly higher than 3\n",
    "- You can break down your code into separate lines with a ```\\``` <br>\n",
    "to make it easy to read.\n",
    "\n",
    "HINT: Use ```HAVING AVG(headroom)``` rather than an alias <br>\n",
    "for the code to work correctly."
   ]
  },
  {
   "cell_type": "code",
   "execution_count": null,
   "metadata": {},
   "outputs": [
    {
     "name": "stdout",
     "output_type": "stream",
     "text": [
      "     brand  avg_headroom\n",
      "0    Dodge      3.625000\n",
      "1     Olds      3.500000\n",
      "2    Buick      3.500000\n",
      "3     Cad.      3.500000\n",
      "4  Peugeot      3.500000\n",
      "5    Mazda      3.500000\n",
      "6    Merc.      3.250000\n",
      "7    Linc.      3.166667\n"
     ]
    }
   ],
   "source": [
    "# Write your answer here:\n",
    "\n",
    "headroom = pd.read_sql(text(\"SELECT \\\n",
    "                            brand, \\\n",
    "                            AVG(headroom) AS avg_headroom \\\n",
    "                            FROM cars \\\n",
    "                            GROUP BY brand \\\n",
    "                            HAVING AVG(headroom) > 3 \\\n",
    "                            ORDER BY avg_headroom DESC;\"),connection\n",
    "                            )\n",
    "print(headroom)\n",
    "\n",
    "\n"
   ]
  },
  {
   "attachments": {},
   "cell_type": "markdown",
   "metadata": {},
   "source": [
    "<font size = \"5\">\n",
    "\n",
    "(e) Groupby and multiple aggregations\n",
    "\n",
    "<font size = \"3\">\n",
    "\n",
    "Run a query using ```pd.read_sql()```\n",
    "\n",
    "-  From ```cars```, obtain the average, min, and max of each brand's weight using ```GROUP BY```\n",
    "- You can break down your code into separate lines with a ```\\``` <br>\n",
    "to make it easy to read."
   ]
  },
  {
   "cell_type": "code",
   "execution_count": null,
   "metadata": {},
   "outputs": [
    {
     "name": "stdout",
     "output_type": "stream",
     "text": [
      "      brand   avg_weight  min_weight  max_weight\n",
      "0      Audi  2450.000000        2070        2830\n",
      "1    Toyota  2426.666667        2200        2670\n",
      "2   Renault  1830.000000        1830        1830\n",
      "3      Cad.  4173.333333        3900        4330\n",
      "4     Chev.  3063.333333        2110        3690\n",
      "5    Datsun  2355.000000        2020        2750\n",
      "6     Plym.  2622.000000        1800        3330\n",
      "7        VW  2030.000000        1930        2160\n",
      "8     Honda  2000.000000        1760        2240\n",
      "9      Olds  3498.571429        2730        4060\n",
      "10     Fiat  2130.000000        2130        2130\n",
      "11    Volvo  3170.000000        3170        3170\n",
      "12     Ford  2225.000000        1800        2650\n",
      "13    Buick  3398.571429        2230        4080\n",
      "14      AMC  2973.333333        2640        3350\n",
      "15    Dodge  3265.000000        2120        3740\n",
      "16    Linc.  4463.333333        3830        4840\n",
      "17    Pont.  3281.666667        2690        3700\n",
      "18    Merc.  3448.333333        2580        4130\n",
      "19   Subaru  2050.000000        2050        2050\n",
      "20  Peugeot  3420.000000        3420        3420\n",
      "21    Mazda  1980.000000        1980        1980\n",
      "22      BMW  2650.000000        2650        2650\n"
     ]
    }
   ],
   "source": [
    "# Write your answer here:\n",
    "dif_weight = pd.read_sql(text(\"SELECT \\\n",
    "             brand, \\\n",
    "             AVG(weight) AS avg_weight, \\\n",
    "             MIN(weight) AS min_weight, \\\n",
    "             MAX(weight) AS max_weight \\\n",
    "          FROM cars \\\n",
    "          GROUP BY brand;\"),connection)\n",
    "\n",
    "print(dif_weight)\n",
    "\n",
    "\n",
    "\n",
    "\n"
   ]
  },
  {
   "cell_type": "markdown",
   "metadata": {},
   "source": [
    "<font size = \"5\">\n",
    "\n",
    "(f) Filter then Aggregate\n",
    "\n",
    "<font size = \"3\">\n",
    "\n",
    "\n",
    "Run a query using ```pd.read_sql()```\n",
    "\n",
    "- From ```cars```, filter cars that are from the brand 'Audi' using WHERE\n",
    "- Obtain the average of headroom (you should only be reporting one number)\n",
    "- You can break down your code into separate lines with a ```\\``` <br>\n",
    "to make it easy to read.\n",
    "\n",
    "HINT: Use single quotations inside ```text(\"      \")``` to <br>\n",
    "filter by ```'Audi'```"
   ]
  },
  {
   "cell_type": "code",
   "execution_count": 17,
   "metadata": {},
   "outputs": [
    {
     "name": "stdout",
     "output_type": "stream",
     "text": [
      "   avg_headroom\n",
      "0          2.75\n"
     ]
    }
   ],
   "source": [
    "# Write your answer here:\n",
    "\n",
    "audi = pd.read_sql(text(\"SELECT \\\n",
    "                        AVG(headroom) AS avg_headroom \\\n",
    "                        FROM cars \\\n",
    "                        WHERE brand = 'Audi';\"),connection)\n",
    "\n",
    "print(audi)\n",
    "\n"
   ]
  }
 ],
 "metadata": {
  "kernelspec": {
   "display_name": "base",
   "language": "python",
   "name": "python3"
  },
  "language_info": {
   "codemirror_mode": {
    "name": "ipython",
    "version": 3
   },
   "file_extension": ".py",
   "mimetype": "text/x-python",
   "name": "python",
   "nbconvert_exporter": "python",
   "pygments_lexer": "ipython3",
   "version": "3.12.7"
  },
  "orig_nbformat": 4,
  "vscode": {
   "interpreter": {
    "hash": "45fc1f684f6f416f40889115beff3ddf69879b64cf4bfee48cb72a61e9d15d1a"
   }
  }
 },
 "nbformat": 4,
 "nbformat_minor": 2
}
